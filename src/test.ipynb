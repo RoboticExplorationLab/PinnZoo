{
 "cells": [
  {
   "cell_type": "code",
   "execution_count": 3,
   "metadata": {},
   "outputs": [],
   "source": [
    "import pinocchio as pin\n",
    "import pinocchio.casadi as cpin\n",
    "import casadi as cs\n",
    "from pinocchio.robot_wrapper import RobotWrapper\n",
    "import sys, os\n",
    "import numpy as np\n",
    "from enum import Enum\n",
    "from pathlib import Path\n",
    "\n",
    "import os, sys\n",
    "from symbolic_generator import SymbolicGenerator, KinematicsOrientation, cpin, cs\n",
    "import math"
   ]
  },
  {
   "cell_type": "code",
   "execution_count": 4,
   "metadata": {},
   "outputs": [
    {
     "name": "stdout",
     "output_type": "stream",
     "text": [
      "Loaded robot model from: ../models/nadia/nadiaV17.fullRobot.simpleKnees.fixedArms_mj.urdf\n",
      "----------- Model Details -----------\n",
      "\tFloating base = true\n",
      "\t# of configs = 22\n",
      "\t# of DoFs = 21\n",
      "\n",
      "\tBodies: ['world', 'pelvis', 'PELVIS_LINK', 'LEFT_HIP_Z', 'LEFT_HIP_YAW_LINK', 'LEFT_HIP_X', 'LEFT_HIP_ROLL_LINK', 'LEFT_HIP_Y', 'LEFT_THIGH_LINK', 'LEFT_KNEE_Y', 'LEFT_SHIN_LINK', 'LEFT_ANKLE_Y', 'LEFT_ANKLE_LINK', 'LEFT_ANKLE_X', 'LEFT_FOOT_LINK', 'L_C_joint', 'L_C', 'L_FL_joint', 'L_FL', 'L_FR_joint', 'L_FR', 'L_RL_joint', 'L_RL', 'L_RR_joint', 'L_RR', 'LEFT_SHIN_IMU_JOINT', 'LEFT_SHIN_IMU_LINK', 'LEFT_THIGH_IMU_JOINT', 'LEFT_THIGH_IMU_LINK', 'PELVIS_STIM_IMU_JOINT', 'PELVIS_STIM_IMU_LINK', 'RIGHT_HIP_Z', 'RIGHT_HIP_YAW_LINK', 'RIGHT_HIP_X', 'RIGHT_HIP_ROLL_LINK', 'RIGHT_HIP_Y', 'RIGHT_THIGH_LINK', 'RIGHT_KNEE_Y', 'RIGHT_SHIN_LINK', 'RIGHT_ANKLE_Y', 'RIGHT_ANKLE_LINK', 'RIGHT_ANKLE_X', 'RIGHT_FOOT_LINK', 'R_C_joint', 'R_C', 'R_FL_joint', 'R_FL', 'R_FR_joint', 'R_FR', 'R_RL_joint', 'R_RL', 'R_RR_joint', 'R_RR', 'RIGHT_SHIN_IMU_JOINT', 'RIGHT_SHIN_IMU_LINK', 'RIGHT_THIGH_IMU_JOINT', 'RIGHT_THIGH_IMU_LINK', 'SPINE_Z', 'SPINE_YAW_LINK', 'SPINE_X', 'SPINE_ROLL_LINK', 'SPINE_Y', 'TORSO_LINK', 'LEFT_SHOULDER_Y', 'LEFT_SHOULDER_PITCH_LINK', 'LEFT_SHOULDER_PITCH_IMU_JOINT', 'LEFT_SHOULDER_PITCH_IMU_LINK', 'LEFT_SHOULDER_X', 'LEFT_SHOULDER_ROLL_LINK', 'LEFT_SHOULDER_Z', 'LEFT_SHOULDER_YAW_LINK', 'LEFT_ELBOW_Y', 'LEFT_ELBOW_PITCH_LINK', 'LEFT_SHOULDER_YAW_IMU_JOINT', 'LEFT_SHOULDER_YAW_IMU_LINK', 'RIGHT_SHOULDER_Y', 'RIGHT_SHOULDER_PITCH_LINK', 'RIGHT_SHOULDER_PITCH_IMU_JOINT', 'RIGHT_SHOULDER_PITCH_IMU_LINK', 'RIGHT_SHOULDER_X', 'RIGHT_SHOULDER_ROLL_LINK', 'RIGHT_SHOULDER_Z', 'RIGHT_SHOULDER_YAW_LINK', 'RIGHT_ELBOW_Y', 'RIGHT_ELBOW_PITCH_LINK', 'RIGHT_SHOULDER_YAW_IMU_JOINT', 'RIGHT_SHOULDER_YAW_IMU_LINK', 'TORSO_IMU_JOINT', 'TORSO_IMU_LINK']\n",
      "\n",
      "\tJoints: ['universe', 'root_joint', 'LEFT_HIP_Z', 'LEFT_HIP_X', 'LEFT_HIP_Y', 'LEFT_KNEE_Y', 'LEFT_ANKLE_Y', 'LEFT_ANKLE_X', 'RIGHT_HIP_Z', 'RIGHT_HIP_X', 'RIGHT_HIP_Y', 'RIGHT_KNEE_Y', 'RIGHT_ANKLE_Y', 'RIGHT_ANKLE_X', 'SPINE_Z', 'SPINE_X', 'SPINE_Y']\n",
      "\n",
      "\tKinematics: ['L_C', 'R_C']\n",
      "\n",
      "\tOrienation representation: AxisAngle\n",
      "\n",
      "\tState vector order: ['x', 'y', 'z', 'q_w', 'q_x', 'q_y', 'q_z', 'LEFT_HIP_Z', 'LEFT_HIP_X', 'LEFT_HIP_Y', 'LEFT_KNEE_Y', 'LEFT_ANKLE_Y', 'LEFT_ANKLE_X', 'RIGHT_HIP_Z', 'RIGHT_HIP_X', 'RIGHT_HIP_Y', 'RIGHT_KNEE_Y', 'RIGHT_ANKLE_Y', 'RIGHT_ANKLE_X', 'SPINE_Z', 'SPINE_X', 'SPINE_Y', 'lin_v_x', 'lin_v_y', 'lin_v_z', 'ang_v_x', 'ang_v_y', 'ang_v_z', 'LEFT_HIP_Z', 'LEFT_HIP_X', 'LEFT_HIP_Y', 'LEFT_KNEE_Y', 'LEFT_ANKLE_Y', 'LEFT_ANKLE_X', 'RIGHT_HIP_Z', 'RIGHT_HIP_X', 'RIGHT_HIP_Y', 'RIGHT_KNEE_Y', 'RIGHT_ANKLE_Y', 'RIGHT_ANKLE_X', 'SPINE_Z', 'SPINE_X', 'SPINE_Y']\n",
      "\n",
      "\tTorque order: ['LEFT_HIP_Z', 'LEFT_HIP_X', 'LEFT_HIP_Y', 'LEFT_KNEE_Y', 'LEFT_ANKLE_Y', 'LEFT_ANKLE_X', 'RIGHT_HIP_Z', 'RIGHT_HIP_X', 'RIGHT_HIP_Y', 'RIGHT_KNEE_Y', 'RIGHT_ANKLE_Y', 'RIGHT_ANKLE_X', 'SPINE_Z', 'SPINE_X', 'SPINE_Y']\n",
      "\n",
      "Generating code\n",
      "Generated dynamics\n",
      "Generated kinematics\n",
      "Finished generating to /home/arun/QuadrupedControl.jl/submodules/PinnZoo/src/generated_code\n"
     ]
    }
   ],
   "source": [
    "urdf_path = '../models/nadia/nadiaV17.fullRobot.simpleKnees.fixedArms_mj.urdf'\n",
    "mesh_dir = \"../models/nadia\"\n",
    "symb_gen = SymbolicGenerator(urdf_path, mesh_dir=mesh_dir,\n",
    "                             floating = True,\n",
    "                             kinematics_bodies=['L_C', 'R_C'],\n",
    "                             kinematics_ori = KinematicsOrientation.AxisAngle,\n",
    "                             actuated_dofs = slice(6,21))\n",
    "symb_gen.generate()\n",
    "model = RobotWrapper.BuildFromURDF(urdf_path, mesh_dir, root_joint = pin.JointModelFreeFlyer()).model\n",
    "data = model.createData()\n",
    "cmodel = cpin.Model(model)\n",
    "cdata = cmodel.createData()\n"
   ]
  },
  {
   "cell_type": "code",
   "execution_count": 73,
   "metadata": {},
   "outputs": [
    {
     "name": "stdout",
     "output_type": "stream",
     "text": [
      "[0. 0. 0. 0. 1. 0. 0. 0. 0. 0. 0. 0. 0. 0. 0. 0. 0. 0. 0. 0. 0. 0.]\n",
      "[0. 0. 0. 1. 0. 0. 0. 0. 0. 0. 0. 0. 0. 0. 0. 0. 0. 0. 0. 0. 0.]\n",
      "[-1.  0. -0.]\n",
      "[ 0.    0.    0.    0.    0.   -1.57]\n",
      "[[-1.    0.    0.    0.    0.    0.    0.  ]\n",
      " [ 0.    1.    0.    0.    0.    0.    0.  ]\n",
      " [-0.    0.   -1.    0.    0.    0.    0.  ]\n",
      " [ 0.    0.    0.    0.    0.    1.57  0.  ]\n",
      " [ 0.    0.    0.    0.    1.    0.    0.  ]\n",
      " [ 0.    0.    0.   -1.57  0.    0.    0.  ]]\n"
     ]
    }
   ],
   "source": [
    "nq, nv = model.nq, model.nv\n",
    "q = pin.neutral(model)\n",
    "v = np.zeros(nv)\n",
    "v[3] = 1\n",
    "q[3:7] = pin.exp3_quat(np.array([0, math.pi, 0]))\n",
    "\n",
    "print(q)\n",
    "print(v)\n",
    "\n",
    "pin.forwardKinematics(model, data, q, v)\n",
    "pin.updateFramePlacements(model, data)\n",
    "\n",
    "# id = model.getFrameId('R_C')\n",
    "id = 1\n",
    "\n",
    "test = pin.getFrameVelocity(model, data, id, pin.ReferenceFrame.LOCAL_WORLD_ALIGNED)\n",
    "\n",
    "print(test.angular)\n",
    "\n",
    "x_k_sym = cs.SX.sym('x_k_sym', nq + nv) \n",
    "cpin.forwardKinematics(cmodel, cdata, x_k_sym[:nq])\n",
    "cpin.updateFramePlacements(cmodel, cdata)\n",
    "kinematics = []\n",
    "kinematics.append(cdata.oMf[id].translation)\n",
    "aa = cpin.log3(cdata.oMf[id].rotation)\n",
    "kinematics.append(aa)\n",
    "kinematics = cs.vertcat(*kinematics)\n",
    "E = cs.substitute(cs.densify(cs.jacobian(cpin.integrate(cmodel, x_k_sym[:nq], x_k_sym[nq:]), x_k_sym[nq:])), x_k_sym[nq:], cs.SX.zeros(nv))\n",
    "kinematics_dot = cs.jacobian(kinematics, x_k_sym)[:, :nq]@E@x_k_sym[nq:]\n",
    "kinematics_dot_func = cs.Function('kinematics_dot', [x_k_sym], [kinematics_dot])\n",
    "E_func = cs.Function('E', [x_k_sym], [(cs.jacobian(kinematics, x_k_sym[:nq])@E)[:, :7]])\n",
    "np.set_printoptions(precision=2, suppress=True, linewidth=100)\n",
    "print(np.array(kinematics_dot_func(np.concatenate([q, v]))).flatten())\n",
    "print(np.array(E_func(np.concatenate([q, v]))))"
   ]
  },
  {
   "cell_type": "code",
   "execution_count": 68,
   "metadata": {},
   "outputs": [],
   "source": [
    "x_k_sym = cs.SX.sym('x_k_sym', nq + nv) \n",
    "cpin.forwardKinematics(cmodel, cdata, x_k_sym[:nq])\n",
    "cpin.updateFramePlacements(cmodel, cdata)\n",
    "kinematics = []\n",
    "\n",
    "for body in symb_gen.kinematics_bodies:\n",
    "    kinematics.append(cdata.oMf[cmodel.getFrameId(body)].translation)\n",
    "    aa = cpin.log3(cdata.oMf[cmodel.getFrameId(body)].rotation)\n",
    "    kinematics.append(aa)\n",
    "kinematics = cs.vertcat(*kinematics)\n",
    "E = cs.substitute(cs.densify(cs.jacobian(cpin.integrate(cmodel, x_k_sym[:nq], x_k_sym[nq:]), x_k_sym[nq:])), x_k_sym[nq:], cs.SX.zeros(nv))\n",
    "kinematics_dot = cs.jacobian(kinematics, x_k_sym)[:, :nq]@E@x_k_sym[nq:]\n",
    "kinematics_dot_func = cs.Function('kinematics_dot', [x_k_sym], [kinematics_dot])"
   ]
  },
  {
   "cell_type": "code",
   "execution_count": 69,
   "metadata": {},
   "outputs": [
    {
     "data": {
      "text/plain": [
       "5.651921387810258"
      ]
     },
     "execution_count": 69,
     "metadata": {},
     "output_type": "execute_result"
    }
   ],
   "source": [
    "np.array(kinematics_dot_func(np.concatenate([q, v])))[9:]\n",
    "np.linalg.norm(np.array(kinematics_dot_func(np.concatenate([q, v])))[9:])"
   ]
  },
  {
   "cell_type": "code",
   "execution_count": 74,
   "metadata": {},
   "outputs": [
    {
     "name": "stdout",
     "output_type": "stream",
     "text": [
      "[0. 0. 0. 0. 1. 0. 0. 0. 0. 0. 0. 0. 0. 0. 0. 0. 0. 0. 0. 0. 0. 0.]\n",
      "[0. 0. 0. 1. 0. 0. 0. 0. 0. 0. 0. 0. 0. 0. 0. 0. 0. 0. 0. 0. 0.]\n",
      "[-1.  0. -0.]\n",
      "@1=(0<=quat_3), @2=1, @3=((@1?@2:0)+((!@1)?-1:0)), @4=(@3*quat_0), @5=(sq(quat_0)+(sq(quat_1)+sq(quat_2))), @6=6.05545e-06, @7=(@5<@6), @8=2, @9=0.166667, @10=0.25, @11=(@5<@6), @12=(@3*quat_3), @13=sq(@12), @14=(@5/@13), @15=(@8*(@2-(@14/3))), @16=(@5+4.93038e-32), @17=sqrt(@16), @18=(@17/@12), @19=(!@11), @20=atan2(@17,@12), @21=((@11?(@15*@18):0)+(@19?(@8*@20):0)), @22=(@21+@21), @23=(quat_1/@17), @24=0.333333, @25=(@16+sq(@12)), @26=(@12/@25), @27=(@26*@23), @28=((@11?((@15*(@23/@12))-(@18*(@8*(@24*((quat_1+quat_1)/@13))))):0)+(@19?(@8*@27):0)), @29=(@10*(@22*@28)), @30=(sq(@21)/4), @31=0.0194444, @32=(@31*@30), @33=(!@7), @34=sin(@20), @35=(@21/@34), @36=(@35/@34), @37=cos(@20), @38=((@7?(@8*((@9*@29)+((@30*(@31*@29))+(@32*@29)))):0)+(@33?((@28/@34)-(@36*(@37*@27))):0)), @39=0.5, @40=((((@39*quat_3)*w_0)-((@39*quat_2)*w_1))+((@39*quat_1)*w_2)), @41=(quat_0/@17), @42=(@26*@41), @43=((@11?((@15*(@41/@12))-(@18*(@8*(@24*((quat_0+quat_0)/@13))))):0)+(@19?(@8*@42):0)), @44=(@10*(@22*@43)), @45=((@7?(@8*((@9*@44)+((@30*(@31*@44))+(@32*@44)))):0)+(@33?((@43/@34)-(@36*(@37*@42))):0)), @46=((@7?(@8*((@2+(@30/6))+(@32*@30))):0)+(@33?@35:0)), @47=((((@39*quat_0)*w_0)+((@39*quat_1)*w_1))+((@39*quat_2)*w_2)), @48=(quat_2/@17), @49=(@26*@48), @50=((@11?((@15*(@48/@12))-(@18*(@8*(@24*((quat_2+quat_2)/@13))))):0)+(@19?(@8*@49):0)), @51=(@10*(@22*@50)), @52=((@7?(@8*((@9*@51)+((@30*(@31*@51))+(@32*@51)))):0)+(@33?((@50/@34)-(@36*(@37*@49))):0)), @53=((((@39*quat_2)*w_0)+((@39*quat_3)*w_1))-((@39*quat_0)*w_2)), @54=((@17/@25)*@3), @55=((@11?((@18*(@8*(@24*((@14/@13)*((@12+@12)*@3)))))-(@15*((@18/@12)*@3))):0)+(@19?(-(@8*@54)):0)), @56=(@10*(@22*@55)), @57=((@7?(@8*((@9*@56)+((@30*(@31*@56))+(@32*@56)))):0)+(@33?((@55/@34)+(@36*(@37*@54))):0)), @58=((((@39*quat_0)*w_1)-((@39*quat_1)*w_0))+((@39*quat_3)*w_2)), @59=(@3*quat_1), @60=(@3*quat_2), [(((((@4*@38)*@40)-(((@4*@45)+(@46*@3))*@47))+((@4*@52)*@53))+((@4*@57)*@58)), ((((((@59*@38)+(@46*@3))*@40)-((@59*@45)*@47))+((@59*@52)*@53))+((@59*@57)*@58)), (((((@60*@38)*@40)-((@60*@45)*@47))+(((@60*@52)+(@46*@3))*@53))+((@60*@57)*@58))]\n"
     ]
    },
    {
     "data": {
      "text/plain": [
       "DM([0, 1, 0])"
      ]
     },
     "execution_count": 74,
     "metadata": {},
     "output_type": "execute_result"
    }
   ],
   "source": [
    "nq, nv = model.nq, model.nv\n",
    "q = pin.neutral(model)\n",
    "v = np.zeros(nv)\n",
    "v[3] = 1\n",
    "q[3:7] = pin.exp3_quat(np.array([0, math.pi, 0]))\n",
    "\n",
    "print(q)\n",
    "print(v)\n",
    "\n",
    "pin.forwardKinematics(model, data, q, v)\n",
    "pin.updateFramePlacements(model, data)\n",
    "\n",
    "# id = model.getFrameId('R_C')\n",
    "id = 1\n",
    "\n",
    "test = pin.getFrameVelocity(model, data, id, pin.ReferenceFrame.LOCAL_WORLD_ALIGNED)\n",
    "print(test.angular)\n",
    "\n",
    "def skew_symmetric(v):\n",
    "    \"\"\"Create a skew-symmetric matrix from a 3-element vector.\"\"\"\n",
    "    return np.array([\n",
    "        [0, -v[2], v[1]],\n",
    "        [v[2], 0, -v[0]],\n",
    "        [-v[1], v[0], 0]\n",
    "    ])\n",
    "\n",
    "quat = cs.SX.sym('quat', 4)\n",
    "w = cs.SX.sym('w', 3)\n",
    "a = cpin.log3(quat)\n",
    "da_dq = cs.jacobian(a, quat)\n",
    "G = cs.vertcat(-cs.horzcat(quat[0], quat[1], quat[2]), quat[3]*cs.SX.eye(3) + skew_symmetric(quat[:3]))\n",
    "dq_dt = 0.5*G@w\n",
    "da_dt = da_dq@dq_dt\n",
    "print(da_dt)\n",
    "test_func = cs.Function('da_dt', [quat, w], [da_dt])\n",
    "test_func(q[3:7], v[3:6])"
   ]
  }
 ],
 "metadata": {
  "kernelspec": {
   "display_name": "pinocchio",
   "language": "python",
   "name": "python3"
  },
  "language_info": {
   "codemirror_mode": {
    "name": "ipython",
    "version": 3
   },
   "file_extension": ".py",
   "mimetype": "text/x-python",
   "name": "python",
   "nbconvert_exporter": "python",
   "pygments_lexer": "ipython3",
   "version": "3.9.19"
  }
 },
 "nbformat": 4,
 "nbformat_minor": 2
}
