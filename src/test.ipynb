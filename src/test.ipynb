{
 "cells": [
  {
   "cell_type": "code",
   "execution_count": 1,
   "metadata": {},
   "outputs": [],
   "source": [
    "import pinocchio as pin\n",
    "import pinocchio.casadi as cpin\n",
    "import casadi as cs\n",
    "from pinocchio.robot_wrapper import RobotWrapper\n",
    "import sys, os\n",
    "import numpy as np\n",
    "from enum import Enum\n",
    "from pathlib import Path"
   ]
  },
  {
   "cell_type": "code",
   "execution_count": 5,
   "metadata": {},
   "outputs": [],
   "source": [
    "urdf_path = '../models/unitree_go1/go1.urdf'\n",
    "mesh_dir = \"../models/unitree_go1\"\n",
    "model = RobotWrapper.BuildFromURDF(urdf_path, mesh_dir, root_joint = pin.JointModelFreeFlyer()).model\n",
    "data = model.createData()"
   ]
  },
  {
   "cell_type": "code",
   "execution_count": 18,
   "metadata": {},
   "outputs": [],
   "source": [
    "nq, nv = model.nq, model.nv\n",
    "q = pin.neutral(model)\n",
    "v = np.zeros(nv)\n",
    "\n",
    "pin.forwardKinematics(model, data, q, v)\n",
    "pin.updateFramePlacements(model, data)\n",
    "\n",
    "pin.getFramePosition(model, data, frame_id, pin.ReferenceFrame.WORLD)\n"
   ]
  }
 ],
 "metadata": {
  "kernelspec": {
   "display_name": "pinocchio",
   "language": "python",
   "name": "python3"
  },
  "language_info": {
   "codemirror_mode": {
    "name": "ipython",
    "version": 3
   },
   "file_extension": ".py",
   "mimetype": "text/x-python",
   "name": "python",
   "nbconvert_exporter": "python",
   "pygments_lexer": "ipython3",
   "version": "3.9.19"
  }
 },
 "nbformat": 4,
 "nbformat_minor": 2
}
